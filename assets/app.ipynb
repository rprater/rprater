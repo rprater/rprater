{
 "cells": [
  {
   "attachments": {},
   "cell_type": "markdown",
   "metadata": {},
   "source": [
    "# Blackjack"
   ]
  },
  {
   "attachments": {},
   "cell_type": "markdown",
   "metadata": {},
   "source": [
    "## Outline"
   ]
  },
  {
   "attachments": {},
   "cell_type": "markdown",
   "metadata": {},
   "source": [
    "- Introduction to Blackjack\n",
    "    - What is Blackjack?\n",
    "    - How do you play it?\n",
    "- Introduction to Python\n",
    "    - What is Python?\n",
    "    - What is Object Oriented Programming?\n",
    "    - What are Enumerations?\n",
    "    - What are Dunder Methods?"
   ]
  },
  {
   "attachments": {},
   "cell_type": "markdown",
   "metadata": {},
   "source": [
    "## Introduction to Blackjack"
   ]
  },
  {
   "attachments": {},
   "cell_type": "markdown",
   "metadata": {},
   "source": [
    "![blackjack](./blackjack_small.jpg)"
   ]
  },
  {
   "attachments": {},
   "cell_type": "markdown",
   "metadata": {},
   "source": [
    "### What is Blackjack?"
   ]
  },
  {
   "attachments": {},
   "cell_type": "markdown",
   "metadata": {},
   "source": [
    "__Blackjack__ is a popular card game played in casinos all over the world. The objective of the game is to beat the dealer by having a hand that is worth more points than the dealer's hand, without going over 21 points."
   ]
  },
  {
   "attachments": {},
   "cell_type": "markdown",
   "metadata": {},
   "source": [
    "### How do you play it?"
   ]
  },
  {
   "attachments": {},
   "cell_type": "markdown",
   "metadata": {},
   "source": [
    "The game is played with a standard 52-card deck, with each card assigned a point value. Number cards are worth their face value, face cards (King, Queen, Jack) are worth 10 points each, and Aces can be worth either 1 or 11 points, depending on the player's choice.\n",
    "\n",
    "At the start of the game, the player is dealt two cards, and the dealer is dealt one card face up and one card face down. The player can choose to \"hit\" and receive additional cards to try to improve their hand, or \"stand\" and keep their current hand.\n",
    "\n",
    "If the player's hand exceeds 21 points, they lose automatically. If the dealer's hand exceeds 21 points, the player wins. If both the player and dealer have hands worth less than 21 points, the hand with the higher value wins.\n",
    "\n",
    "There are additional rules and variations to the game of blackjack, but this provides a basic overview of how it is played.\n",
    "\n",
    "For those who prefer visual learning or just want the game explained for a second time, see [this](https://www.youtube.com/watch?v=eyoh-Ku9TCI) video."
   ]
  },
  {
   "attachments": {},
   "cell_type": "markdown",
   "metadata": {},
   "source": [
    "## Introduction to Python"
   ]
  },
  {
   "attachments": {},
   "cell_type": "markdown",
   "metadata": {},
   "source": [
    "![coding](./coding_small.jpg))"
   ]
  },
  {
   "attachments": {},
   "cell_type": "markdown",
   "metadata": {},
   "source": [
    "### What is Python?"
   ]
  },
  {
   "attachments": {},
   "cell_type": "markdown",
   "metadata": {},
   "source": [
    "__Python__ is a high-level, interpreted programming language that was created in the late 1980s by Guido van Rossum. It is a dynamically typed language that emphasizes code readability and ease of use, making it popular among beginners and experienced programmers alike."
   ]
  },
  {
   "attachments": {},
   "cell_type": "markdown",
   "metadata": {},
   "source": [
    "### What is Object Oriented Programming?"
   ]
  },
  {
   "attachments": {},
   "cell_type": "markdown",
   "metadata": {},
   "source": [
    "![object oriented programming](oop_small.png)"
   ]
  },
  {
   "attachments": {},
   "cell_type": "markdown",
   "metadata": {},
   "source": [
    "Object-oriented programming (OOP) is a programming paradigm that focuses on the use of objects to represent and manipulate data. In OOP, data and behavior are encapsulated within objects, which can communicate with each other through methods, messages, and inheritance.\n",
    "\n",
    "In OOP, the key concepts are:\n",
    "\n",
    "- __Classes:__ A class is a blueprint or template that defines the attributes and behavior of a particular type of object. It defines the properties and methods that an object of that class will have.\n",
    "\n",
    "- __Objects:__ An object is an instance of a class. It represents a specific entity that has a state and behavior defined by its class.\n",
    "\n",
    "- __Encapsulation:__ Encapsulation refers to the concept of hiding the internal details of an object and exposing only the necessary information through its public interface. This helps to keep the code modular and maintainable.\n",
    "\n",
    "- __Inheritance:__ Inheritance is the mechanism by which a class can inherit properties and behavior from a parent class. This allows for code reuse and helps to create a hierarchy of classes.\n",
    "\n",
    "OOP allows for the creation of reusable code, making it easier to maintain and update large projects. It also encourages good programming practices, such as modular design and separation of concerns. OOP is widely used in many programming languages, including Python, Java, and C++.\n",
    "\n",
    "Here's an example of a Python class that demonstrates some basic OOP concepts:"
   ]
  },
  {
   "cell_type": "code",
   "execution_count": 2,
   "metadata": {},
   "outputs": [
    {
     "name": "stdout",
     "output_type": "stream",
     "text": [
      "My car is a Blue 2020 Toyota Corolla with 4 wheels.\n",
      "The Toyota Corolla is starting...\n",
      "A car has 4 wheels.\n",
      "Honk honk!\n"
     ]
    }
   ],
   "source": [
    "class Car:\n",
    "    # Class variables\n",
    "    num_wheels = 4\n",
    "\n",
    "    # Constructor\n",
    "    def __init__(self, make, model, year, color):\n",
    "        # Instance variables\n",
    "        self.make = make\n",
    "        self.model = model\n",
    "        self.year = year\n",
    "        self.color = color\n",
    "\n",
    "    # Instance method\n",
    "    def start_engine(self):\n",
    "        print(\"The {} {} is starting...\".format(self.make, self.model))\n",
    "\n",
    "    # Class method\n",
    "    @classmethod\n",
    "    def get_num_wheels(cls):\n",
    "        return cls.num_wheels\n",
    "\n",
    "    # Static method\n",
    "    @staticmethod\n",
    "    def honk():\n",
    "        print(\"Honk honk!\")\n",
    "\n",
    "# Creating an object of the Car class\n",
    "my_car = Car(\"Toyota\", \"Corolla\", 2020, \"Blue\")\n",
    "\n",
    "# Accessing instance variables and calling an instance method\n",
    "print(\"My car is a {} {} {} {} with {} wheels.\".format(my_car.color, my_car.year, my_car.make, my_car.model, my_car.get_num_wheels()))\n",
    "my_car.start_engine()\n",
    "\n",
    "# Calling a class method and a static method\n",
    "print(\"A car has {} wheels.\".format(Car.get_num_wheels()))\n",
    "Car.honk()\n"
   ]
  },
  {
   "attachments": {},
   "cell_type": "markdown",
   "metadata": {},
   "source": [
    "In this example, we define a `Car` class that has instance variables (`make`, `model`, `year`, and `color`), instance methods (`start_engine()`), class variables (`num_wheels`), class methods (`get_num_wheels()`), and static methods (`honk()`).\n",
    "\n",
    "We then create an object of the `Car` class using the `__init__()` constructor and access its instance variables and instance method using dot notation. We also call the class method and static method using the class name.\n",
    "\n",
    "This is just a simple example, but it demonstrates some of the key concepts of OOP in Python. By using classes and objects, we can create reusable code that is easier to maintain and update over time."
   ]
  },
  {
   "attachments": {},
   "cell_type": "markdown",
   "metadata": {},
   "source": [
    "### What are Enumerations?"
   ]
  },
  {
   "attachments": {},
   "cell_type": "markdown",
   "metadata": {},
   "source": [
    "__Enumerations__ are a data type in programming that consists of a set of named values, also known as enumeration constants. Enums are used to represent a fixed number of possible values for a variable or a parameter, making the code more readable and less prone to errors.\n",
    "\n",
    "In most programming languages, enums are defined using the enum keyword followed by a list of comma-separated values enclosed in braces. Each value is assigned a numeric value starting from 0 by default, but this can be customized to any value using explicit assignment.\n",
    "\n",
    "For example, in Python, an enum can be defined as follows:"
   ]
  },
  {
   "cell_type": "code",
   "execution_count": 1,
   "metadata": {},
   "outputs": [],
   "source": [
    "from enum import Enum\n",
    "\n",
    "class Color(Enum):\n",
    "    RED = 1\n",
    "    GREEN = 2\n",
    "    BLUE = 3"
   ]
  },
  {
   "attachments": {},
   "cell_type": "markdown",
   "metadata": {},
   "source": [
    "In this example, the `Color` enum contains three values: `RED`, `GREEN`, and `BLUE`, each with a custom numeric value.\n",
    "\n",
    "Enums are often used in switch statements or conditional logic to handle a specific set of values. They also provide a way to define a set of valid options for a function parameter, making it easier to write self-documenting code.\n",
    "\n",
    "In summary, enums provide a way to define a fixed set of named values in code, making it easier to write and maintain software that relies on a specific set of values."
   ]
  },
  {
   "attachments": {},
   "cell_type": "markdown",
   "metadata": {},
   "source": [
    "### What are Dunder Methods?"
   ]
  },
  {
   "attachments": {},
   "cell_type": "markdown",
   "metadata": {},
   "source": [
    "Python dunder (double underscore) methods are special methods that have a double underscore prefix and suffix in their name. These methods are also known as magic methods or special methods, and they allow us to define how objects of a class behave in various contexts. Here are some examples of common dunder methods and their usage:\n",
    "\n",
    "1) `__init__`: This method is called when an object of a class is created and allows us to initialize the object's instance variables."
   ]
  },
  {
   "cell_type": "code",
   "execution_count": 3,
   "metadata": {},
   "outputs": [
    {
     "name": "stdout",
     "output_type": "stream",
     "text": [
      "Toyota Corolla\n"
     ]
    }
   ],
   "source": [
    "class Car:\n",
    "    def __init__(self, make, model):\n",
    "        self.make = make\n",
    "        self.model = model\n",
    "\n",
    "my_car = Car(\"Toyota\", \"Corolla\")\n",
    "print(my_car.make, my_car.model)  # Output: Toyota Corolla"
   ]
  },
  {
   "attachments": {},
   "cell_type": "markdown",
   "metadata": {},
   "source": [
    "2) `__str__`: This method is called when an object is converted to a string using the `str()` function or when it is printed using the `print()` function. It allows us to define a custom string representation of the object."
   ]
  },
  {
   "cell_type": "code",
   "execution_count": 4,
   "metadata": {},
   "outputs": [
    {
     "name": "stdout",
     "output_type": "stream",
     "text": [
      "A Toyota Corolla\n",
      "A Toyota Corolla\n"
     ]
    }
   ],
   "source": [
    "class Car:\n",
    "    def __init__(self, make, model):\n",
    "        self.make = make\n",
    "        self.model = model\n",
    "\n",
    "    def __str__(self):\n",
    "        return \"A {} {}\".format(self.make, self.model)\n",
    "\n",
    "my_car = Car(\"Toyota\", \"Corolla\")\n",
    "print(str(my_car))  # Output: A Toyota Corolla\n",
    "print(my_car)  # Output: A Toyota Corolla"
   ]
  },
  {
   "attachments": {},
   "cell_type": "markdown",
   "metadata": {},
   "source": [
    "3) `__eq__`: This method is called when two objects are compared using the `==` operator. It allows us to define how object equality is determined."
   ]
  },
  {
   "cell_type": "code",
   "execution_count": 5,
   "metadata": {},
   "outputs": [
    {
     "name": "stdout",
     "output_type": "stream",
     "text": [
      "False\n",
      "True\n"
     ]
    }
   ],
   "source": [
    "class Car:\n",
    "    def __init__(self, make, model):\n",
    "        self.make = make\n",
    "        self.model = model\n",
    "\n",
    "    def __eq__(self, other):\n",
    "        return self.make == other.make and self.model == other.model\n",
    "\n",
    "my_car1 = Car(\"Toyota\", \"Corolla\")\n",
    "my_car2 = Car(\"Toyota\", \"Camry\")\n",
    "my_car3 = Car(\"Toyota\", \"Corolla\")\n",
    "print(my_car1 == my_car2)  # Output: False\n",
    "print(my_car1 == my_car3)  # Output: True"
   ]
  },
  {
   "attachments": {},
   "cell_type": "markdown",
   "metadata": {},
   "source": [
    "4) `__add__`: This method is called when two objects are added using the `+` operator. It allows us to define how object addition is performed."
   ]
  },
  {
   "cell_type": "code",
   "execution_count": 7,
   "metadata": {},
   "outputs": [
    {
     "name": "stdout",
     "output_type": "stream",
     "text": [
      "4 6\n"
     ]
    }
   ],
   "source": [
    "class Vector:\n",
    "    def __init__(self, x, y):\n",
    "        self.x = x\n",
    "        self.y = y\n",
    "\n",
    "    def __add__(self, other):\n",
    "        return Vector(self.x + other.x, self.y + other.y)\n",
    "\n",
    "v1 = Vector(1, 2)\n",
    "v2 = Vector(3, 4)\n",
    "v3 = v1 + v2\n",
    "print(v3.x, v3.y)  # Output: 4 6"
   ]
  },
  {
   "attachments": {},
   "cell_type": "markdown",
   "metadata": {},
   "source": [
    "These are just a few examples of the many dunder methods available in Python. By using these special methods, we can customize the behavior of our classes and make them behave more like built-in types."
   ]
  }
 ],
 "metadata": {
  "kernelspec": {
   "display_name": "Python 3",
   "language": "python",
   "name": "python3"
  },
  "language_info": {
   "codemirror_mode": {
    "name": "ipython",
    "version": 3
   },
   "file_extension": ".py",
   "mimetype": "text/x-python",
   "name": "python",
   "nbconvert_exporter": "python",
   "pygments_lexer": "ipython3",
   "version": "3.9.6"
  },
  "orig_nbformat": 4
 },
 "nbformat": 4,
 "nbformat_minor": 2
}
